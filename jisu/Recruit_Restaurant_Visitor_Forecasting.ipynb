{
  "nbformat": 4,
  "nbformat_minor": 0,
  "metadata": {
    "colab": {
      "name": "Recruit_Restaurant_Visitor_Forecasting.ipynb",
      "provenance": [],
      "collapsed_sections": [],
      "mount_file_id": "10INtY8kk2htp_QR4k7_Mt0_ha0AmflsX",
      "authorship_tag": "ABX9TyOCt74nXO8Rwt+IGVDNJIQd",
      "include_colab_link": true
    },
    "kernelspec": {
      "name": "python3",
      "display_name": "Python 3"
    },
    "language_info": {
      "name": "python"
    }
  },
  "cells": [
    {
      "cell_type": "markdown",
      "metadata": {
        "id": "view-in-github",
        "colab_type": "text"
      },
      "source": [
        "<a href=\"https://colab.research.google.com/github/dlgur1994/Hackerthon1_Aiffel/blob/main/jisu/Recruit_Restaurant_Visitor_Forecasting.ipynb\" target=\"_parent\"><img src=\"https://colab.research.google.com/assets/colab-badge.svg\" alt=\"Open In Colab\"/></a>"
      ]
    },
    {
      "cell_type": "code",
      "metadata": {
        "id": "rkPkb4ChxBVA"
      },
      "source": [
        "import numpy as np\n",
        "import pandas as pd\n",
        "from sklearn import preprocessing\n",
        "from sklearn.model_selection import GridSearchCV\n",
        "import lightgbm as lgb\n",
        "import matplotlib.pyplot as plt\n",
        "from IPython.display import display\n",
        "pd.set_option('display.float_format', lambda x: '%.5f' % x)\n"
      ],
      "execution_count": 80,
      "outputs": []
    },
    {
      "cell_type": "code",
      "metadata": {
        "id": "SIOAylilxa9d"
      },
      "source": [
        "air_res = pd.read_csv('/content/drive/MyDrive/Hackathon/recruit-restaurant-visitor-forecasting/air_reserve.csv.zip')\n",
        "air_store = pd.read_csv('/content/drive/MyDrive/Hackathon/recruit-restaurant-visitor-forecasting/air_store_info.csv.zip')\n",
        "hpg_res = pd.read_csv('/content/drive/MyDrive/Hackathon/recruit-restaurant-visitor-forecasting/hpg_reserve.csv.zip')\n",
        "hpg_store = pd.read_csv('/content/drive/MyDrive/Hackathon/recruit-restaurant-visitor-forecasting/hpg_store_info.csv.zip')\n",
        "air_visit = pd.read_csv('/content/drive/MyDrive/Hackathon/recruit-restaurant-visitor-forecasting/air_visit_data.csv.zip')\n",
        "id_rel = pd.read_csv('/content/drive/MyDrive/Hackathon/recruit-restaurant-visitor-forecasting/store_id_relation.csv.zip')"
      ],
      "execution_count": 81,
      "outputs": []
    },
    {
      "cell_type": "code",
      "metadata": {
        "colab": {
          "base_uri": "https://localhost:8080/",
          "height": 402
        },
        "id": "74Xwl6cJ1nAv",
        "outputId": "d534d5d8-2032-41d5-ec01-98cccd3000f1"
      },
      "source": [
        "display(air_res.head())\n",
        "air_res.info()"
      ],
      "execution_count": 82,
      "outputs": [
        {
          "output_type": "display_data",
          "data": {
            "text/html": [
              "<div>\n",
              "<style scoped>\n",
              "    .dataframe tbody tr th:only-of-type {\n",
              "        vertical-align: middle;\n",
              "    }\n",
              "\n",
              "    .dataframe tbody tr th {\n",
              "        vertical-align: top;\n",
              "    }\n",
              "\n",
              "    .dataframe thead th {\n",
              "        text-align: right;\n",
              "    }\n",
              "</style>\n",
              "<table border=\"1\" class=\"dataframe\">\n",
              "  <thead>\n",
              "    <tr style=\"text-align: right;\">\n",
              "      <th></th>\n",
              "      <th>air_store_id</th>\n",
              "      <th>visit_datetime</th>\n",
              "      <th>reserve_datetime</th>\n",
              "      <th>reserve_visitors</th>\n",
              "    </tr>\n",
              "  </thead>\n",
              "  <tbody>\n",
              "    <tr>\n",
              "      <th>0</th>\n",
              "      <td>air_877f79706adbfb06</td>\n",
              "      <td>2016-01-01 19:00:00</td>\n",
              "      <td>2016-01-01 16:00:00</td>\n",
              "      <td>1</td>\n",
              "    </tr>\n",
              "    <tr>\n",
              "      <th>1</th>\n",
              "      <td>air_db4b38ebe7a7ceff</td>\n",
              "      <td>2016-01-01 19:00:00</td>\n",
              "      <td>2016-01-01 19:00:00</td>\n",
              "      <td>3</td>\n",
              "    </tr>\n",
              "    <tr>\n",
              "      <th>2</th>\n",
              "      <td>air_db4b38ebe7a7ceff</td>\n",
              "      <td>2016-01-01 19:00:00</td>\n",
              "      <td>2016-01-01 19:00:00</td>\n",
              "      <td>6</td>\n",
              "    </tr>\n",
              "    <tr>\n",
              "      <th>3</th>\n",
              "      <td>air_877f79706adbfb06</td>\n",
              "      <td>2016-01-01 20:00:00</td>\n",
              "      <td>2016-01-01 16:00:00</td>\n",
              "      <td>2</td>\n",
              "    </tr>\n",
              "    <tr>\n",
              "      <th>4</th>\n",
              "      <td>air_db80363d35f10926</td>\n",
              "      <td>2016-01-01 20:00:00</td>\n",
              "      <td>2016-01-01 01:00:00</td>\n",
              "      <td>5</td>\n",
              "    </tr>\n",
              "  </tbody>\n",
              "</table>\n",
              "</div>"
            ],
            "text/plain": [
              "           air_store_id  ... reserve_visitors\n",
              "0  air_877f79706adbfb06  ...                1\n",
              "1  air_db4b38ebe7a7ceff  ...                3\n",
              "2  air_db4b38ebe7a7ceff  ...                6\n",
              "3  air_877f79706adbfb06  ...                2\n",
              "4  air_db80363d35f10926  ...                5\n",
              "\n",
              "[5 rows x 4 columns]"
            ]
          },
          "metadata": {
            "tags": []
          }
        },
        {
          "output_type": "stream",
          "text": [
            "<class 'pandas.core.frame.DataFrame'>\n",
            "RangeIndex: 92378 entries, 0 to 92377\n",
            "Data columns (total 4 columns):\n",
            " #   Column            Non-Null Count  Dtype \n",
            "---  ------            --------------  ----- \n",
            " 0   air_store_id      92378 non-null  object\n",
            " 1   visit_datetime    92378 non-null  object\n",
            " 2   reserve_datetime  92378 non-null  object\n",
            " 3   reserve_visitors  92378 non-null  int64 \n",
            "dtypes: int64(1), object(3)\n",
            "memory usage: 2.8+ MB\n"
          ],
          "name": "stdout"
        }
      ]
    },
    {
      "cell_type": "code",
      "metadata": {
        "colab": {
          "base_uri": "https://localhost:8080/",
          "height": 420
        },
        "id": "Db_1nVef1p8G",
        "outputId": "843c6261-b6db-4d0a-971b-c233fafcaa7c"
      },
      "source": [
        "display(air_store.head())\n",
        "air_store.info()"
      ],
      "execution_count": 83,
      "outputs": [
        {
          "output_type": "display_data",
          "data": {
            "text/html": [
              "<div>\n",
              "<style scoped>\n",
              "    .dataframe tbody tr th:only-of-type {\n",
              "        vertical-align: middle;\n",
              "    }\n",
              "\n",
              "    .dataframe tbody tr th {\n",
              "        vertical-align: top;\n",
              "    }\n",
              "\n",
              "    .dataframe thead th {\n",
              "        text-align: right;\n",
              "    }\n",
              "</style>\n",
              "<table border=\"1\" class=\"dataframe\">\n",
              "  <thead>\n",
              "    <tr style=\"text-align: right;\">\n",
              "      <th></th>\n",
              "      <th>air_store_id</th>\n",
              "      <th>air_genre_name</th>\n",
              "      <th>air_area_name</th>\n",
              "      <th>latitude</th>\n",
              "      <th>longitude</th>\n",
              "    </tr>\n",
              "  </thead>\n",
              "  <tbody>\n",
              "    <tr>\n",
              "      <th>0</th>\n",
              "      <td>air_0f0cdeee6c9bf3d7</td>\n",
              "      <td>Italian/French</td>\n",
              "      <td>Hyōgo-ken Kōbe-shi Kumoidōri</td>\n",
              "      <td>34.69512</td>\n",
              "      <td>135.19785</td>\n",
              "    </tr>\n",
              "    <tr>\n",
              "      <th>1</th>\n",
              "      <td>air_7cc17a324ae5c7dc</td>\n",
              "      <td>Italian/French</td>\n",
              "      <td>Hyōgo-ken Kōbe-shi Kumoidōri</td>\n",
              "      <td>34.69512</td>\n",
              "      <td>135.19785</td>\n",
              "    </tr>\n",
              "    <tr>\n",
              "      <th>2</th>\n",
              "      <td>air_fee8dcf4d619598e</td>\n",
              "      <td>Italian/French</td>\n",
              "      <td>Hyōgo-ken Kōbe-shi Kumoidōri</td>\n",
              "      <td>34.69512</td>\n",
              "      <td>135.19785</td>\n",
              "    </tr>\n",
              "    <tr>\n",
              "      <th>3</th>\n",
              "      <td>air_a17f0778617c76e2</td>\n",
              "      <td>Italian/French</td>\n",
              "      <td>Hyōgo-ken Kōbe-shi Kumoidōri</td>\n",
              "      <td>34.69512</td>\n",
              "      <td>135.19785</td>\n",
              "    </tr>\n",
              "    <tr>\n",
              "      <th>4</th>\n",
              "      <td>air_83db5aff8f50478e</td>\n",
              "      <td>Italian/French</td>\n",
              "      <td>Tōkyō-to Minato-ku Shibakōen</td>\n",
              "      <td>35.65807</td>\n",
              "      <td>139.75160</td>\n",
              "    </tr>\n",
              "  </tbody>\n",
              "</table>\n",
              "</div>"
            ],
            "text/plain": [
              "           air_store_id  air_genre_name  ... latitude  longitude\n",
              "0  air_0f0cdeee6c9bf3d7  Italian/French  ... 34.69512  135.19785\n",
              "1  air_7cc17a324ae5c7dc  Italian/French  ... 34.69512  135.19785\n",
              "2  air_fee8dcf4d619598e  Italian/French  ... 34.69512  135.19785\n",
              "3  air_a17f0778617c76e2  Italian/French  ... 34.69512  135.19785\n",
              "4  air_83db5aff8f50478e  Italian/French  ... 35.65807  139.75160\n",
              "\n",
              "[5 rows x 5 columns]"
            ]
          },
          "metadata": {
            "tags": []
          }
        },
        {
          "output_type": "stream",
          "text": [
            "<class 'pandas.core.frame.DataFrame'>\n",
            "RangeIndex: 829 entries, 0 to 828\n",
            "Data columns (total 5 columns):\n",
            " #   Column          Non-Null Count  Dtype  \n",
            "---  ------          --------------  -----  \n",
            " 0   air_store_id    829 non-null    object \n",
            " 1   air_genre_name  829 non-null    object \n",
            " 2   air_area_name   829 non-null    object \n",
            " 3   latitude        829 non-null    float64\n",
            " 4   longitude       829 non-null    float64\n",
            "dtypes: float64(2), object(3)\n",
            "memory usage: 32.5+ KB\n"
          ],
          "name": "stdout"
        }
      ]
    },
    {
      "cell_type": "code",
      "metadata": {
        "colab": {
          "base_uri": "https://localhost:8080/",
          "height": 600
        },
        "id": "0390MRqo2A71",
        "outputId": "77a2b7af-0384-4269-d1d3-7d9ad1358177"
      },
      "source": [
        "display(air_visit.head())\n",
        "display(air_visit.info())\n",
        "hpg_res.info()"
      ],
      "execution_count": 84,
      "outputs": [
        {
          "output_type": "display_data",
          "data": {
            "text/html": [
              "<div>\n",
              "<style scoped>\n",
              "    .dataframe tbody tr th:only-of-type {\n",
              "        vertical-align: middle;\n",
              "    }\n",
              "\n",
              "    .dataframe tbody tr th {\n",
              "        vertical-align: top;\n",
              "    }\n",
              "\n",
              "    .dataframe thead th {\n",
              "        text-align: right;\n",
              "    }\n",
              "</style>\n",
              "<table border=\"1\" class=\"dataframe\">\n",
              "  <thead>\n",
              "    <tr style=\"text-align: right;\">\n",
              "      <th></th>\n",
              "      <th>air_store_id</th>\n",
              "      <th>visit_date</th>\n",
              "      <th>visitors</th>\n",
              "    </tr>\n",
              "  </thead>\n",
              "  <tbody>\n",
              "    <tr>\n",
              "      <th>0</th>\n",
              "      <td>air_ba937bf13d40fb24</td>\n",
              "      <td>2016-01-13</td>\n",
              "      <td>25</td>\n",
              "    </tr>\n",
              "    <tr>\n",
              "      <th>1</th>\n",
              "      <td>air_ba937bf13d40fb24</td>\n",
              "      <td>2016-01-14</td>\n",
              "      <td>32</td>\n",
              "    </tr>\n",
              "    <tr>\n",
              "      <th>2</th>\n",
              "      <td>air_ba937bf13d40fb24</td>\n",
              "      <td>2016-01-15</td>\n",
              "      <td>29</td>\n",
              "    </tr>\n",
              "    <tr>\n",
              "      <th>3</th>\n",
              "      <td>air_ba937bf13d40fb24</td>\n",
              "      <td>2016-01-16</td>\n",
              "      <td>22</td>\n",
              "    </tr>\n",
              "    <tr>\n",
              "      <th>4</th>\n",
              "      <td>air_ba937bf13d40fb24</td>\n",
              "      <td>2016-01-18</td>\n",
              "      <td>6</td>\n",
              "    </tr>\n",
              "  </tbody>\n",
              "</table>\n",
              "</div>"
            ],
            "text/plain": [
              "           air_store_id  visit_date  visitors\n",
              "0  air_ba937bf13d40fb24  2016-01-13        25\n",
              "1  air_ba937bf13d40fb24  2016-01-14        32\n",
              "2  air_ba937bf13d40fb24  2016-01-15        29\n",
              "3  air_ba937bf13d40fb24  2016-01-16        22\n",
              "4  air_ba937bf13d40fb24  2016-01-18         6"
            ]
          },
          "metadata": {
            "tags": []
          }
        },
        {
          "output_type": "stream",
          "text": [
            "<class 'pandas.core.frame.DataFrame'>\n",
            "RangeIndex: 252108 entries, 0 to 252107\n",
            "Data columns (total 3 columns):\n",
            " #   Column        Non-Null Count   Dtype \n",
            "---  ------        --------------   ----- \n",
            " 0   air_store_id  252108 non-null  object\n",
            " 1   visit_date    252108 non-null  object\n",
            " 2   visitors      252108 non-null  int64 \n",
            "dtypes: int64(1), object(2)\n",
            "memory usage: 5.8+ MB\n"
          ],
          "name": "stdout"
        },
        {
          "output_type": "display_data",
          "data": {
            "text/plain": [
              "None"
            ]
          },
          "metadata": {
            "tags": []
          }
        },
        {
          "output_type": "stream",
          "text": [
            "<class 'pandas.core.frame.DataFrame'>\n",
            "RangeIndex: 2000320 entries, 0 to 2000319\n",
            "Data columns (total 4 columns):\n",
            " #   Column            Dtype \n",
            "---  ------            ----- \n",
            " 0   hpg_store_id      object\n",
            " 1   visit_datetime    object\n",
            " 2   reserve_datetime  object\n",
            " 3   reserve_visitors  int64 \n",
            "dtypes: int64(1), object(3)\n",
            "memory usage: 61.0+ MB\n"
          ],
          "name": "stdout"
        }
      ]
    },
    {
      "cell_type": "code",
      "metadata": {
        "colab": {
          "base_uri": "https://localhost:8080/"
        },
        "id": "yhFHvyyn2D8p",
        "outputId": "728a516d-2e53-4245-e498-7b3ebe38d7f0"
      },
      "source": [
        "id_rel.head()\n",
        "id_rel.info()"
      ],
      "execution_count": 85,
      "outputs": [
        {
          "output_type": "stream",
          "text": [
            "<class 'pandas.core.frame.DataFrame'>\n",
            "RangeIndex: 150 entries, 0 to 149\n",
            "Data columns (total 2 columns):\n",
            " #   Column        Non-Null Count  Dtype \n",
            "---  ------        --------------  ----- \n",
            " 0   air_store_id  150 non-null    object\n",
            " 1   hpg_store_id  150 non-null    object\n",
            "dtypes: object(2)\n",
            "memory usage: 2.5+ KB\n"
          ],
          "name": "stdout"
        }
      ]
    },
    {
      "cell_type": "code",
      "metadata": {
        "colab": {
          "base_uri": "https://localhost:8080/"
        },
        "id": "XkSM40Qi2TNZ",
        "outputId": "79f64059-0839-45ac-f591-bdbaae47686d"
      },
      "source": [
        "air_res.air_store_id.nunique() # nujmber of unique restaurants in air system"
      ],
      "execution_count": 86,
      "outputs": [
        {
          "output_type": "execute_result",
          "data": {
            "text/plain": [
              "314"
            ]
          },
          "metadata": {
            "tags": []
          },
          "execution_count": 86
        }
      ]
    },
    {
      "cell_type": "code",
      "metadata": {
        "colab": {
          "base_uri": "https://localhost:8080/"
        },
        "id": "_bERsEch2elV",
        "outputId": "f1e701fe-a3e2-408f-ce27-4197584d89ff"
      },
      "source": [
        "hpg_res.hpg_store_id.nunique()"
      ],
      "execution_count": 87,
      "outputs": [
        {
          "output_type": "execute_result",
          "data": {
            "text/plain": [
              "13325"
            ]
          },
          "metadata": {
            "tags": []
          },
          "execution_count": 87
        }
      ]
    },
    {
      "cell_type": "code",
      "metadata": {
        "colab": {
          "base_uri": "https://localhost:8080/"
        },
        "id": "Ed3xEumQ2pht",
        "outputId": "05def946-7696-497c-a78e-cff806b20726"
      },
      "source": [
        "id_rel.air_store_id.nunique()"
      ],
      "execution_count": 88,
      "outputs": [
        {
          "output_type": "execute_result",
          "data": {
            "text/plain": [
              "150"
            ]
          },
          "metadata": {
            "tags": []
          },
          "execution_count": 88
        }
      ]
    },
    {
      "cell_type": "markdown",
      "metadata": {
        "id": "863NHMcjFef8"
      },
      "source": [
        "## Data Merging\n",
        ": 데이터 전부를 합처 하나의 데이터를 만든다"
      ]
    },
    {
      "cell_type": "code",
      "metadata": {
        "id": "MHQta5Pq2r2H"
      },
      "source": [
        "# Rename som columns before merging\n",
        "# air_store.rename(columns={\"air_genre_name\": \"genre_name\", \" B\": \"c\"})"
      ],
      "execution_count": 89,
      "outputs": []
    },
    {
      "cell_type": "code",
      "metadata": {
        "colab": {
          "base_uri": "https://localhost:8080/",
          "height": 953
        },
        "id": "CP_I4BhZ23qh",
        "outputId": "be9ef994-d48a-4c79-93d0-d55ce6ec4844"
      },
      "source": [
        "# Merge tables\n",
        "air = pd.merge(air_res, air_store, on='air_store_id')\n",
        "hpg = pd.merge(hpg_res, hpg_store, on='hpg_store_id')\n",
        "\n",
        "display(air.isnull().sum())\n",
        "display(hpg.isnull().sum())\n",
        "print('-------------------------------')\n",
        "air_rel = pd.merge(air, id_rel, how='left', on='air_store_id')\n",
        "hpg_rel = pd.merge(hpg, id_rel, how='left', on='hpg_store_id')\n",
        "\n",
        "display(air_rel.isnull().sum())\n",
        "display(hpg_rel.isnull().sum())\n",
        "print('-------------------------------')\n",
        "full = pd.merge(air_rel, hpg_rel, how='outer')\n",
        "\n",
        "display(full.isnull().sum())"
      ],
      "execution_count": 104,
      "outputs": [
        {
          "output_type": "display_data",
          "data": {
            "text/plain": [
              "air_store_id        0\n",
              "visit_datetime      0\n",
              "reserve_datetime    0\n",
              "reserve_visitors    0\n",
              "air_genre_name      0\n",
              "air_area_name       0\n",
              "latitude            0\n",
              "longitude           0\n",
              "dtype: int64"
            ]
          },
          "metadata": {
            "tags": []
          }
        },
        {
          "output_type": "display_data",
          "data": {
            "text/plain": [
              "hpg_store_id        0\n",
              "visit_datetime      0\n",
              "reserve_datetime    0\n",
              "reserve_visitors    0\n",
              "hpg_genre_name      0\n",
              "hpg_area_name       0\n",
              "latitude            0\n",
              "longitude           0\n",
              "dtype: int64"
            ]
          },
          "metadata": {
            "tags": []
          }
        },
        {
          "output_type": "stream",
          "text": [
            "-------------------------------\n"
          ],
          "name": "stdout"
        },
        {
          "output_type": "display_data",
          "data": {
            "text/plain": [
              "air_store_id            0\n",
              "visit_datetime          0\n",
              "reserve_datetime        0\n",
              "reserve_visitors        0\n",
              "air_genre_name          0\n",
              "air_area_name           0\n",
              "latitude                0\n",
              "longitude               0\n",
              "hpg_store_id        56114\n",
              "dtype: int64"
            ]
          },
          "metadata": {
            "tags": []
          }
        },
        {
          "output_type": "display_data",
          "data": {
            "text/plain": [
              "hpg_store_id             0\n",
              "visit_datetime           0\n",
              "reserve_datetime         0\n",
              "reserve_visitors         0\n",
              "hpg_genre_name           0\n",
              "hpg_area_name            0\n",
              "latitude                 0\n",
              "longitude                0\n",
              "air_store_id        857780\n",
              "dtype: int64"
            ]
          },
          "metadata": {
            "tags": []
          }
        },
        {
          "output_type": "stream",
          "text": [
            "-------------------------------\n"
          ],
          "name": "stdout"
        },
        {
          "output_type": "display_data",
          "data": {
            "text/plain": [
              "air_store_id        857780\n",
              "visit_datetime           0\n",
              "reserve_datetime         0\n",
              "reserve_visitors         0\n",
              "air_genre_name      871308\n",
              "air_area_name       871308\n",
              "latitude                 0\n",
              "longitude                0\n",
              "hpg_store_id         56114\n",
              "hpg_genre_name       92378\n",
              "hpg_area_name        92378\n",
              "dtype: int64"
            ]
          },
          "metadata": {
            "tags": []
          }
        }
      ]
    },
    {
      "cell_type": "code",
      "metadata": {
        "colab": {
          "base_uri": "https://localhost:8080/"
        },
        "id": "3ccseDwy4JhZ",
        "outputId": "e886fee6-26a6-4318-98d3-eaeadd5a5e73"
      },
      "source": [
        "print(\"In air reservations are: %d \\nIn hpg reservations are: %d \\nIn both systems at once there are: %d\" % \\\n",
        "      (air.shape[0], hpg.shape[0], id_rel.shape[0]))\n",
        "print(\"So, totally must be: %d reservations.\" \\\n",
        "      % (full.shape[0]))"
      ],
      "execution_count": 91,
      "outputs": [
        {
          "output_type": "stream",
          "text": [
            "In air reservations are: 92378 \n",
            "In hpg reservations are: 871308 \n",
            "In both systems at once there are: 150\n",
            "So, totally must be: 963686 reservations.\n"
          ],
          "name": "stdout"
        }
      ]
    },
    {
      "cell_type": "code",
      "metadata": {
        "colab": {
          "base_uri": "https://localhost:8080/"
        },
        "id": "HtQXsm_e4PNh",
        "outputId": "ccb252d9-ee5d-481f-854d-4a1f9677c179"
      },
      "source": [
        "# Then we need to convert columns 'visit_datetime' and 'reserve_datetime' from object type -> to data/time type\n",
        "full['visit_datetime'] = pd.to_datetime(full['visit_datetime'])\n",
        "full['reserve_datetime'] = pd.to_datetime(full['reserve_datetime'])\n",
        "full.info()"
      ],
      "execution_count": 92,
      "outputs": [
        {
          "output_type": "stream",
          "text": [
            "<class 'pandas.core.frame.DataFrame'>\n",
            "Int64Index: 963686 entries, 0 to 963685\n",
            "Data columns (total 11 columns):\n",
            " #   Column            Non-Null Count   Dtype         \n",
            "---  ------            --------------   -----         \n",
            " 0   air_store_id      105906 non-null  object        \n",
            " 1   visit_datetime    963686 non-null  datetime64[ns]\n",
            " 2   reserve_datetime  963686 non-null  datetime64[ns]\n",
            " 3   reserve_visitors  963686 non-null  int64         \n",
            " 4   air_genre_name    92378 non-null   object        \n",
            " 5   air_area_name     92378 non-null   object        \n",
            " 6   latitude          963686 non-null  float64       \n",
            " 7   longitude         963686 non-null  float64       \n",
            " 8   hpg_store_id      907572 non-null  object        \n",
            " 9   hpg_genre_name    871308 non-null  object        \n",
            " 10  hpg_area_name     871308 non-null  object        \n",
            "dtypes: datetime64[ns](2), float64(2), int64(1), object(6)\n",
            "memory usage: 88.2+ MB\n"
          ],
          "name": "stdout"
        }
      ]
    },
    {
      "cell_type": "markdown",
      "metadata": {
        "id": "3038uubjFxZZ"
      },
      "source": [
        "## visit_datetime 과 reserve_datetime 을 년/월/일/주/시간 으로 나눈다"
      ]
    },
    {
      "cell_type": "code",
      "metadata": {
        "id": "EJf6mJyY4fta"
      },
      "source": [
        "# Split converted date-time columns to year, month, date, day of week and time separate coluns of dataset\n",
        "full['visit_year'] = pd.Series(full.visit_datetime.dt.year)\n",
        "full['visit_month']  = pd.Series(full.visit_datetime.dt.month)\n",
        "full['visit_date'] = pd.Series(full.visit_datetime.dt.day)\n",
        "full['visit_weekday'] = pd.Series(full.visit_datetime.dt.weekday)\n",
        "full['visit_time'] = pd.Series(full.visit_datetime.dt.time"
      ],
      "execution_count": 93,
      "outputs": []
    },
    {
      "cell_type": "code",
      "metadata": {
        "id": "YQ2pY_qW4hAU"
      },
      "source": [
        "full['reserve_year'] = pd.Series(full.reserve_datetime.dt.year)\n",
        "full['reserve_month']  = pd.Series(full.reserve_datetime.dt.month)\n",
        "full['reserve_date'] = pd.Series(full.reserve_datetime.dt.day)\n",
        "full['reserve_weekday'] = pd.Series(full.reserve_datetime.dt.weekday)\n",
        "full['reserve_time'] = pd.Series(full.reserve_datetime.dt.time"
      ],
      "execution_count": 94,
      "outputs": []
    },
    {
      "cell_type": "code",
      "metadata": {
        "colab": {
          "base_uri": "https://localhost:8080/",
          "height": 1000
        },
        "id": "eMYhbx6p4kEQ",
        "outputId": "229f0cfb-d606-4eb1-9a43-e35ff7e70ed6"
      },
      "source": [
        "full.info()\n",
        "full.head(300)"
      ],
      "execution_count": 95,
      "outputs": [
        {
          "output_type": "stream",
          "text": [
            "<class 'pandas.core.frame.DataFrame'>\n",
            "Int64Index: 963686 entries, 0 to 963685\n",
            "Data columns (total 21 columns):\n",
            " #   Column            Non-Null Count   Dtype         \n",
            "---  ------            --------------   -----         \n",
            " 0   air_store_id      105906 non-null  object        \n",
            " 1   visit_datetime    963686 non-null  datetime64[ns]\n",
            " 2   reserve_datetime  963686 non-null  datetime64[ns]\n",
            " 3   reserve_visitors  963686 non-null  int64         \n",
            " 4   air_genre_name    92378 non-null   object        \n",
            " 5   air_area_name     92378 non-null   object        \n",
            " 6   latitude          963686 non-null  float64       \n",
            " 7   longitude         963686 non-null  float64       \n",
            " 8   hpg_store_id      907572 non-null  object        \n",
            " 9   hpg_genre_name    871308 non-null  object        \n",
            " 10  hpg_area_name     871308 non-null  object        \n",
            " 11  visit_year        963686 non-null  int64         \n",
            " 12  visit_month       963686 non-null  int64         \n",
            " 13  visit_date        963686 non-null  int64         \n",
            " 14  visit_weekday     963686 non-null  int64         \n",
            " 15  visit_time        963686 non-null  object        \n",
            " 16  reserve_year      963686 non-null  int64         \n",
            " 17  reserve_month     963686 non-null  int64         \n",
            " 18  reserve_date      963686 non-null  int64         \n",
            " 19  reserve_weekday   963686 non-null  int64         \n",
            " 20  reserve_time      963686 non-null  object        \n",
            "dtypes: datetime64[ns](2), float64(2), int64(9), object(8)\n",
            "memory usage: 161.8+ MB\n"
          ],
          "name": "stdout"
        },
        {
          "output_type": "execute_result",
          "data": {
            "text/html": [
              "<div>\n",
              "<style scoped>\n",
              "    .dataframe tbody tr th:only-of-type {\n",
              "        vertical-align: middle;\n",
              "    }\n",
              "\n",
              "    .dataframe tbody tr th {\n",
              "        vertical-align: top;\n",
              "    }\n",
              "\n",
              "    .dataframe thead th {\n",
              "        text-align: right;\n",
              "    }\n",
              "</style>\n",
              "<table border=\"1\" class=\"dataframe\">\n",
              "  <thead>\n",
              "    <tr style=\"text-align: right;\">\n",
              "      <th></th>\n",
              "      <th>air_store_id</th>\n",
              "      <th>visit_datetime</th>\n",
              "      <th>reserve_datetime</th>\n",
              "      <th>reserve_visitors</th>\n",
              "      <th>air_genre_name</th>\n",
              "      <th>air_area_name</th>\n",
              "      <th>latitude</th>\n",
              "      <th>longitude</th>\n",
              "      <th>hpg_store_id</th>\n",
              "      <th>hpg_genre_name</th>\n",
              "      <th>hpg_area_name</th>\n",
              "      <th>visit_year</th>\n",
              "      <th>visit_month</th>\n",
              "      <th>visit_date</th>\n",
              "      <th>visit_weekday</th>\n",
              "      <th>visit_time</th>\n",
              "      <th>reserve_year</th>\n",
              "      <th>reserve_month</th>\n",
              "      <th>reserve_date</th>\n",
              "      <th>reserve_weekday</th>\n",
              "      <th>reserve_time</th>\n",
              "    </tr>\n",
              "  </thead>\n",
              "  <tbody>\n",
              "    <tr>\n",
              "      <th>0</th>\n",
              "      <td>air_877f79706adbfb06</td>\n",
              "      <td>2016-01-01 19:00:00</td>\n",
              "      <td>2016-01-01 16:00:00</td>\n",
              "      <td>1</td>\n",
              "      <td>Japanese food</td>\n",
              "      <td>Tōkyō-to Minato-ku Shibakōen</td>\n",
              "      <td>35.65807</td>\n",
              "      <td>139.75160</td>\n",
              "      <td>NaN</td>\n",
              "      <td>NaN</td>\n",
              "      <td>NaN</td>\n",
              "      <td>2016</td>\n",
              "      <td>1</td>\n",
              "      <td>1</td>\n",
              "      <td>4</td>\n",
              "      <td>19:00:00</td>\n",
              "      <td>2016</td>\n",
              "      <td>1</td>\n",
              "      <td>1</td>\n",
              "      <td>4</td>\n",
              "      <td>16:00:00</td>\n",
              "    </tr>\n",
              "    <tr>\n",
              "      <th>1</th>\n",
              "      <td>air_877f79706adbfb06</td>\n",
              "      <td>2016-01-01 20:00:00</td>\n",
              "      <td>2016-01-01 16:00:00</td>\n",
              "      <td>2</td>\n",
              "      <td>Japanese food</td>\n",
              "      <td>Tōkyō-to Minato-ku Shibakōen</td>\n",
              "      <td>35.65807</td>\n",
              "      <td>139.75160</td>\n",
              "      <td>NaN</td>\n",
              "      <td>NaN</td>\n",
              "      <td>NaN</td>\n",
              "      <td>2016</td>\n",
              "      <td>1</td>\n",
              "      <td>1</td>\n",
              "      <td>4</td>\n",
              "      <td>20:00:00</td>\n",
              "      <td>2016</td>\n",
              "      <td>1</td>\n",
              "      <td>1</td>\n",
              "      <td>4</td>\n",
              "      <td>16:00:00</td>\n",
              "    </tr>\n",
              "    <tr>\n",
              "      <th>2</th>\n",
              "      <td>air_877f79706adbfb06</td>\n",
              "      <td>2016-01-02 18:00:00</td>\n",
              "      <td>2016-01-01 16:00:00</td>\n",
              "      <td>2</td>\n",
              "      <td>Japanese food</td>\n",
              "      <td>Tōkyō-to Minato-ku Shibakōen</td>\n",
              "      <td>35.65807</td>\n",
              "      <td>139.75160</td>\n",
              "      <td>NaN</td>\n",
              "      <td>NaN</td>\n",
              "      <td>NaN</td>\n",
              "      <td>2016</td>\n",
              "      <td>1</td>\n",
              "      <td>2</td>\n",
              "      <td>5</td>\n",
              "      <td>18:00:00</td>\n",
              "      <td>2016</td>\n",
              "      <td>1</td>\n",
              "      <td>1</td>\n",
              "      <td>4</td>\n",
              "      <td>16:00:00</td>\n",
              "    </tr>\n",
              "    <tr>\n",
              "      <th>3</th>\n",
              "      <td>air_877f79706adbfb06</td>\n",
              "      <td>2016-01-02 21:00:00</td>\n",
              "      <td>2016-01-01 16:00:00</td>\n",
              "      <td>2</td>\n",
              "      <td>Japanese food</td>\n",
              "      <td>Tōkyō-to Minato-ku Shibakōen</td>\n",
              "      <td>35.65807</td>\n",
              "      <td>139.75160</td>\n",
              "      <td>NaN</td>\n",
              "      <td>NaN</td>\n",
              "      <td>NaN</td>\n",
              "      <td>2016</td>\n",
              "      <td>1</td>\n",
              "      <td>2</td>\n",
              "      <td>5</td>\n",
              "      <td>21:00:00</td>\n",
              "      <td>2016</td>\n",
              "      <td>1</td>\n",
              "      <td>1</td>\n",
              "      <td>4</td>\n",
              "      <td>16:00:00</td>\n",
              "    </tr>\n",
              "    <tr>\n",
              "      <th>4</th>\n",
              "      <td>air_877f79706adbfb06</td>\n",
              "      <td>2016-01-08 21:00:00</td>\n",
              "      <td>2016-01-04 20:00:00</td>\n",
              "      <td>2</td>\n",
              "      <td>Japanese food</td>\n",
              "      <td>Tōkyō-to Minato-ku Shibakōen</td>\n",
              "      <td>35.65807</td>\n",
              "      <td>139.75160</td>\n",
              "      <td>NaN</td>\n",
              "      <td>NaN</td>\n",
              "      <td>NaN</td>\n",
              "      <td>2016</td>\n",
              "      <td>1</td>\n",
              "      <td>8</td>\n",
              "      <td>4</td>\n",
              "      <td>21:00:00</td>\n",
              "      <td>2016</td>\n",
              "      <td>1</td>\n",
              "      <td>4</td>\n",
              "      <td>0</td>\n",
              "      <td>20:00:00</td>\n",
              "    </tr>\n",
              "    <tr>\n",
              "      <th>...</th>\n",
              "      <td>...</td>\n",
              "      <td>...</td>\n",
              "      <td>...</td>\n",
              "      <td>...</td>\n",
              "      <td>...</td>\n",
              "      <td>...</td>\n",
              "      <td>...</td>\n",
              "      <td>...</td>\n",
              "      <td>...</td>\n",
              "      <td>...</td>\n",
              "      <td>...</td>\n",
              "      <td>...</td>\n",
              "      <td>...</td>\n",
              "      <td>...</td>\n",
              "      <td>...</td>\n",
              "      <td>...</td>\n",
              "      <td>...</td>\n",
              "      <td>...</td>\n",
              "      <td>...</td>\n",
              "      <td>...</td>\n",
              "      <td>...</td>\n",
              "    </tr>\n",
              "    <tr>\n",
              "      <th>295</th>\n",
              "      <td>air_877f79706adbfb06</td>\n",
              "      <td>2016-04-12 21:00:00</td>\n",
              "      <td>2016-04-01 23:00:00</td>\n",
              "      <td>2</td>\n",
              "      <td>Japanese food</td>\n",
              "      <td>Tōkyō-to Minato-ku Shibakōen</td>\n",
              "      <td>35.65807</td>\n",
              "      <td>139.75160</td>\n",
              "      <td>NaN</td>\n",
              "      <td>NaN</td>\n",
              "      <td>NaN</td>\n",
              "      <td>2016</td>\n",
              "      <td>4</td>\n",
              "      <td>12</td>\n",
              "      <td>1</td>\n",
              "      <td>21:00:00</td>\n",
              "      <td>2016</td>\n",
              "      <td>4</td>\n",
              "      <td>1</td>\n",
              "      <td>4</td>\n",
              "      <td>23:00:00</td>\n",
              "    </tr>\n",
              "    <tr>\n",
              "      <th>296</th>\n",
              "      <td>air_877f79706adbfb06</td>\n",
              "      <td>2016-04-12 21:00:00</td>\n",
              "      <td>2016-04-01 23:00:00</td>\n",
              "      <td>2</td>\n",
              "      <td>Japanese food</td>\n",
              "      <td>Tōkyō-to Minato-ku Shibakōen</td>\n",
              "      <td>35.65807</td>\n",
              "      <td>139.75160</td>\n",
              "      <td>NaN</td>\n",
              "      <td>NaN</td>\n",
              "      <td>NaN</td>\n",
              "      <td>2016</td>\n",
              "      <td>4</td>\n",
              "      <td>12</td>\n",
              "      <td>1</td>\n",
              "      <td>21:00:00</td>\n",
              "      <td>2016</td>\n",
              "      <td>4</td>\n",
              "      <td>1</td>\n",
              "      <td>4</td>\n",
              "      <td>23:00:00</td>\n",
              "    </tr>\n",
              "    <tr>\n",
              "      <th>297</th>\n",
              "      <td>air_877f79706adbfb06</td>\n",
              "      <td>2016-04-12 21:00:00</td>\n",
              "      <td>2016-04-11 12:00:00</td>\n",
              "      <td>4</td>\n",
              "      <td>Japanese food</td>\n",
              "      <td>Tōkyō-to Minato-ku Shibakōen</td>\n",
              "      <td>35.65807</td>\n",
              "      <td>139.75160</td>\n",
              "      <td>NaN</td>\n",
              "      <td>NaN</td>\n",
              "      <td>NaN</td>\n",
              "      <td>2016</td>\n",
              "      <td>4</td>\n",
              "      <td>12</td>\n",
              "      <td>1</td>\n",
              "      <td>21:00:00</td>\n",
              "      <td>2016</td>\n",
              "      <td>4</td>\n",
              "      <td>11</td>\n",
              "      <td>0</td>\n",
              "      <td>12:00:00</td>\n",
              "    </tr>\n",
              "    <tr>\n",
              "      <th>298</th>\n",
              "      <td>air_877f79706adbfb06</td>\n",
              "      <td>2016-04-13 21:00:00</td>\n",
              "      <td>2016-04-04 23:00:00</td>\n",
              "      <td>2</td>\n",
              "      <td>Japanese food</td>\n",
              "      <td>Tōkyō-to Minato-ku Shibakōen</td>\n",
              "      <td>35.65807</td>\n",
              "      <td>139.75160</td>\n",
              "      <td>NaN</td>\n",
              "      <td>NaN</td>\n",
              "      <td>NaN</td>\n",
              "      <td>2016</td>\n",
              "      <td>4</td>\n",
              "      <td>13</td>\n",
              "      <td>2</td>\n",
              "      <td>21:00:00</td>\n",
              "      <td>2016</td>\n",
              "      <td>4</td>\n",
              "      <td>4</td>\n",
              "      <td>0</td>\n",
              "      <td>23:00:00</td>\n",
              "    </tr>\n",
              "    <tr>\n",
              "      <th>299</th>\n",
              "      <td>air_877f79706adbfb06</td>\n",
              "      <td>2016-04-13 21:00:00</td>\n",
              "      <td>2016-04-13 21:00:00</td>\n",
              "      <td>2</td>\n",
              "      <td>Japanese food</td>\n",
              "      <td>Tōkyō-to Minato-ku Shibakōen</td>\n",
              "      <td>35.65807</td>\n",
              "      <td>139.75160</td>\n",
              "      <td>NaN</td>\n",
              "      <td>NaN</td>\n",
              "      <td>NaN</td>\n",
              "      <td>2016</td>\n",
              "      <td>4</td>\n",
              "      <td>13</td>\n",
              "      <td>2</td>\n",
              "      <td>21:00:00</td>\n",
              "      <td>2016</td>\n",
              "      <td>4</td>\n",
              "      <td>13</td>\n",
              "      <td>2</td>\n",
              "      <td>21:00:00</td>\n",
              "    </tr>\n",
              "  </tbody>\n",
              "</table>\n",
              "<p>300 rows × 21 columns</p>\n",
              "</div>"
            ],
            "text/plain": [
              "             air_store_id      visit_datetime  ... reserve_weekday  reserve_time\n",
              "0    air_877f79706adbfb06 2016-01-01 19:00:00  ...               4      16:00:00\n",
              "1    air_877f79706adbfb06 2016-01-01 20:00:00  ...               4      16:00:00\n",
              "2    air_877f79706adbfb06 2016-01-02 18:00:00  ...               4      16:00:00\n",
              "3    air_877f79706adbfb06 2016-01-02 21:00:00  ...               4      16:00:00\n",
              "4    air_877f79706adbfb06 2016-01-08 21:00:00  ...               0      20:00:00\n",
              "..                    ...                 ...  ...             ...           ...\n",
              "295  air_877f79706adbfb06 2016-04-12 21:00:00  ...               4      23:00:00\n",
              "296  air_877f79706adbfb06 2016-04-12 21:00:00  ...               4      23:00:00\n",
              "297  air_877f79706adbfb06 2016-04-12 21:00:00  ...               0      12:00:00\n",
              "298  air_877f79706adbfb06 2016-04-13 21:00:00  ...               0      23:00:00\n",
              "299  air_877f79706adbfb06 2016-04-13 21:00:00  ...               2      21:00:00\n",
              "\n",
              "[300 rows x 21 columns]"
            ]
          },
          "metadata": {
            "tags": []
          },
          "execution_count": 95
        }
      ]
    },
    {
      "cell_type": "markdown",
      "metadata": {
        "id": "brnjbr_5H0r0"
      },
      "source": [
        "## 데이터를 합친 후 생긴 결측치를 채운다(기존 데이터에는 결측치 없었으나 합친 후 생김)"
      ]
    },
    {
      "cell_type": "code",
      "metadata": {
        "colab": {
          "base_uri": "https://localhost:8080/",
          "height": 251
        },
        "id": "-yEU8AgFICHf",
        "outputId": "013c4340-a6e8-4d0c-d4da-a85f826a208d"
      },
      "source": [
        "display(full.shape)\n",
        "full.isnull().sum()"
      ],
      "execution_count": 111,
      "outputs": [
        {
          "output_type": "display_data",
          "data": {
            "text/plain": [
              "(963686, 11)"
            ]
          },
          "metadata": {
            "tags": []
          }
        },
        {
          "output_type": "execute_result",
          "data": {
            "text/plain": [
              "air_store_id        857780\n",
              "visit_datetime           0\n",
              "reserve_datetime         0\n",
              "reserve_visitors         0\n",
              "air_genre_name      871308\n",
              "air_area_name       871308\n",
              "latitude                 0\n",
              "longitude                0\n",
              "hpg_store_id         56114\n",
              "hpg_genre_name       92378\n",
              "hpg_area_name        92378\n",
              "dtype: int64"
            ]
          },
          "metadata": {
            "tags": []
          },
          "execution_count": 111
        }
      ]
    },
    {
      "cell_type": "code",
      "metadata": {
        "id": "TT8j58vN422M"
      },
      "source": [
        "# 결측치를 채우자\n",
        "full['air_store_id'] = full['air_store_id'].fillna('0')\n",
        "full['hpg_store_id'] = full['hpg_store_id'].fillna('0')\n",
        "full['air_genre_name'] = full['air_genre_name'].fillna('0')\n",
        "full['hpg_genre_name'] = full['hpg_genre_name'].fillna('0')"
      ],
      "execution_count": 70,
      "outputs": []
    },
    {
      "cell_type": "code",
      "metadata": {
        "colab": {
          "base_uri": "https://localhost:8080/",
          "height": 419
        },
        "id": "v8ryDyH9Ie-l",
        "outputId": "27142f0f-fa49-4fcd-8e2b-b5d2d54f6708"
      },
      "source": [
        "full.isnull().sum()\n",
        "full.head(100)"
      ],
      "execution_count": 113,
      "outputs": [
        {
          "output_type": "execute_result",
          "data": {
            "text/html": [
              "<div>\n",
              "<style scoped>\n",
              "    .dataframe tbody tr th:only-of-type {\n",
              "        vertical-align: middle;\n",
              "    }\n",
              "\n",
              "    .dataframe tbody tr th {\n",
              "        vertical-align: top;\n",
              "    }\n",
              "\n",
              "    .dataframe thead th {\n",
              "        text-align: right;\n",
              "    }\n",
              "</style>\n",
              "<table border=\"1\" class=\"dataframe\">\n",
              "  <thead>\n",
              "    <tr style=\"text-align: right;\">\n",
              "      <th></th>\n",
              "      <th>air_store_id</th>\n",
              "      <th>visit_datetime</th>\n",
              "      <th>reserve_datetime</th>\n",
              "      <th>reserve_visitors</th>\n",
              "      <th>air_genre_name</th>\n",
              "      <th>air_area_name</th>\n",
              "      <th>latitude</th>\n",
              "      <th>longitude</th>\n",
              "      <th>hpg_store_id</th>\n",
              "      <th>hpg_genre_name</th>\n",
              "      <th>hpg_area_name</th>\n",
              "    </tr>\n",
              "  </thead>\n",
              "  <tbody>\n",
              "    <tr>\n",
              "      <th>0</th>\n",
              "      <td>air_877f79706adbfb06</td>\n",
              "      <td>2016-01-01 19:00:00</td>\n",
              "      <td>2016-01-01 16:00:00</td>\n",
              "      <td>1</td>\n",
              "      <td>Japanese food</td>\n",
              "      <td>Tōkyō-to Minato-ku Shibakōen</td>\n",
              "      <td>35.65807</td>\n",
              "      <td>139.75160</td>\n",
              "      <td>NaN</td>\n",
              "      <td>NaN</td>\n",
              "      <td>NaN</td>\n",
              "    </tr>\n",
              "    <tr>\n",
              "      <th>1</th>\n",
              "      <td>air_877f79706adbfb06</td>\n",
              "      <td>2016-01-01 20:00:00</td>\n",
              "      <td>2016-01-01 16:00:00</td>\n",
              "      <td>2</td>\n",
              "      <td>Japanese food</td>\n",
              "      <td>Tōkyō-to Minato-ku Shibakōen</td>\n",
              "      <td>35.65807</td>\n",
              "      <td>139.75160</td>\n",
              "      <td>NaN</td>\n",
              "      <td>NaN</td>\n",
              "      <td>NaN</td>\n",
              "    </tr>\n",
              "    <tr>\n",
              "      <th>2</th>\n",
              "      <td>air_877f79706adbfb06</td>\n",
              "      <td>2016-01-02 18:00:00</td>\n",
              "      <td>2016-01-01 16:00:00</td>\n",
              "      <td>2</td>\n",
              "      <td>Japanese food</td>\n",
              "      <td>Tōkyō-to Minato-ku Shibakōen</td>\n",
              "      <td>35.65807</td>\n",
              "      <td>139.75160</td>\n",
              "      <td>NaN</td>\n",
              "      <td>NaN</td>\n",
              "      <td>NaN</td>\n",
              "    </tr>\n",
              "    <tr>\n",
              "      <th>3</th>\n",
              "      <td>air_877f79706adbfb06</td>\n",
              "      <td>2016-01-02 21:00:00</td>\n",
              "      <td>2016-01-01 16:00:00</td>\n",
              "      <td>2</td>\n",
              "      <td>Japanese food</td>\n",
              "      <td>Tōkyō-to Minato-ku Shibakōen</td>\n",
              "      <td>35.65807</td>\n",
              "      <td>139.75160</td>\n",
              "      <td>NaN</td>\n",
              "      <td>NaN</td>\n",
              "      <td>NaN</td>\n",
              "    </tr>\n",
              "    <tr>\n",
              "      <th>4</th>\n",
              "      <td>air_877f79706adbfb06</td>\n",
              "      <td>2016-01-08 21:00:00</td>\n",
              "      <td>2016-01-04 20:00:00</td>\n",
              "      <td>2</td>\n",
              "      <td>Japanese food</td>\n",
              "      <td>Tōkyō-to Minato-ku Shibakōen</td>\n",
              "      <td>35.65807</td>\n",
              "      <td>139.75160</td>\n",
              "      <td>NaN</td>\n",
              "      <td>NaN</td>\n",
              "      <td>NaN</td>\n",
              "    </tr>\n",
              "    <tr>\n",
              "      <th>...</th>\n",
              "      <td>...</td>\n",
              "      <td>...</td>\n",
              "      <td>...</td>\n",
              "      <td>...</td>\n",
              "      <td>...</td>\n",
              "      <td>...</td>\n",
              "      <td>...</td>\n",
              "      <td>...</td>\n",
              "      <td>...</td>\n",
              "      <td>...</td>\n",
              "      <td>...</td>\n",
              "    </tr>\n",
              "    <tr>\n",
              "      <th>95</th>\n",
              "      <td>air_877f79706adbfb06</td>\n",
              "      <td>2016-02-06 20:00:00</td>\n",
              "      <td>2016-02-05 17:00:00</td>\n",
              "      <td>2</td>\n",
              "      <td>Japanese food</td>\n",
              "      <td>Tōkyō-to Minato-ku Shibakōen</td>\n",
              "      <td>35.65807</td>\n",
              "      <td>139.75160</td>\n",
              "      <td>NaN</td>\n",
              "      <td>NaN</td>\n",
              "      <td>NaN</td>\n",
              "    </tr>\n",
              "    <tr>\n",
              "      <th>96</th>\n",
              "      <td>air_877f79706adbfb06</td>\n",
              "      <td>2016-02-06 21:00:00</td>\n",
              "      <td>2016-02-06 21:00:00</td>\n",
              "      <td>1</td>\n",
              "      <td>Japanese food</td>\n",
              "      <td>Tōkyō-to Minato-ku Shibakōen</td>\n",
              "      <td>35.65807</td>\n",
              "      <td>139.75160</td>\n",
              "      <td>NaN</td>\n",
              "      <td>NaN</td>\n",
              "      <td>NaN</td>\n",
              "    </tr>\n",
              "    <tr>\n",
              "      <th>97</th>\n",
              "      <td>air_877f79706adbfb06</td>\n",
              "      <td>2016-02-08 18:00:00</td>\n",
              "      <td>2016-01-19 12:00:00</td>\n",
              "      <td>2</td>\n",
              "      <td>Japanese food</td>\n",
              "      <td>Tōkyō-to Minato-ku Shibakōen</td>\n",
              "      <td>35.65807</td>\n",
              "      <td>139.75160</td>\n",
              "      <td>NaN</td>\n",
              "      <td>NaN</td>\n",
              "      <td>NaN</td>\n",
              "    </tr>\n",
              "    <tr>\n",
              "      <th>98</th>\n",
              "      <td>air_877f79706adbfb06</td>\n",
              "      <td>2016-02-08 21:00:00</td>\n",
              "      <td>2016-01-14 13:00:00</td>\n",
              "      <td>4</td>\n",
              "      <td>Japanese food</td>\n",
              "      <td>Tōkyō-to Minato-ku Shibakōen</td>\n",
              "      <td>35.65807</td>\n",
              "      <td>139.75160</td>\n",
              "      <td>NaN</td>\n",
              "      <td>NaN</td>\n",
              "      <td>NaN</td>\n",
              "    </tr>\n",
              "    <tr>\n",
              "      <th>99</th>\n",
              "      <td>air_877f79706adbfb06</td>\n",
              "      <td>2016-02-08 22:00:00</td>\n",
              "      <td>2016-02-05 18:00:00</td>\n",
              "      <td>2</td>\n",
              "      <td>Japanese food</td>\n",
              "      <td>Tōkyō-to Minato-ku Shibakōen</td>\n",
              "      <td>35.65807</td>\n",
              "      <td>139.75160</td>\n",
              "      <td>NaN</td>\n",
              "      <td>NaN</td>\n",
              "      <td>NaN</td>\n",
              "    </tr>\n",
              "  </tbody>\n",
              "</table>\n",
              "<p>100 rows × 11 columns</p>\n",
              "</div>"
            ],
            "text/plain": [
              "            air_store_id       visit_datetime  ... hpg_genre_name  hpg_area_name\n",
              "0   air_877f79706adbfb06  2016-01-01 19:00:00  ...            NaN            NaN\n",
              "1   air_877f79706adbfb06  2016-01-01 20:00:00  ...            NaN            NaN\n",
              "2   air_877f79706adbfb06  2016-01-02 18:00:00  ...            NaN            NaN\n",
              "3   air_877f79706adbfb06  2016-01-02 21:00:00  ...            NaN            NaN\n",
              "4   air_877f79706adbfb06  2016-01-08 21:00:00  ...            NaN            NaN\n",
              "..                   ...                  ...  ...            ...            ...\n",
              "95  air_877f79706adbfb06  2016-02-06 20:00:00  ...            NaN            NaN\n",
              "96  air_877f79706adbfb06  2016-02-06 21:00:00  ...            NaN            NaN\n",
              "97  air_877f79706adbfb06  2016-02-08 18:00:00  ...            NaN            NaN\n",
              "98  air_877f79706adbfb06  2016-02-08 21:00:00  ...            NaN            NaN\n",
              "99  air_877f79706adbfb06  2016-02-08 22:00:00  ...            NaN            NaN\n",
              "\n",
              "[100 rows x 11 columns]"
            ]
          },
          "metadata": {
            "tags": []
          },
          "execution_count": 113
        }
      ]
    },
    {
      "cell_type": "code",
      "metadata": {
        "id": "x7_Fq3jd44XZ"
      },
      "source": [
        "# Now lets put our data in order\n",
        "# Create column 'store_id', where all ids from two sources will be collected together\n",
        "full.loc[(full['air_genre_name'] != '0'), 'store_id'] = full['air_store_id']\n",
        "full.loc[(full['air_genre_name'] == '0'), 'store_id'] = full['hpg_store_id']\n",
        "\n",
        "# Create column 'store_genre_name', where all genres of restaurants will be collected together\n",
        "full.loc[(full['air_genre_name'] != '0'), 'store_genre_name'] = full['air_genre_name']\n",
        "full.loc[(full['air_genre_name'] == '0'), 'store_genre_name'] = full['hpg_genre_name']\n",
        "\n",
        "# Create column 'air_hpg_link', to save connection between restaurants that are in both sources\n",
        "full.loc[(full['air_store_id'] != '0') & (full['hpg_genre_name'] != '0'), 'air_hpg_link'] = full['air_store_id']\n",
        "full.loc[(full['air_store_id'] != '0') & (full['hpg_genre_name'] == '0'), 'air_hpg_link'] = full['hpg_store_id']\n",
        "\n",
        "# Create column 'store_genre_name', where all genres of restaurants will be collected together\n",
        "full.loc[(full['air_genre_name'] != '0'), 'area_name'] = full['air_area_name']\n",
        "full.loc[(full['air_genre_name'] == '0'), 'area_name'] = full['hpg_area_name']\n",
        "\n",
        "full['air_hpg_link'] = full['air_hpg_link'].fillna('0')"
      ],
      "execution_count": 71,
      "outputs": []
    },
    {
      "cell_type": "code",
      "metadata": {
        "colab": {
          "base_uri": "https://localhost:8080/",
          "height": 779
        },
        "id": "Qjh44pIK5Cn0",
        "outputId": "57b957aa-8260-4dce-9d20-f25c121e5bbf"
      },
      "source": [
        "full.head(300)"
      ],
      "execution_count": 78,
      "outputs": [
        {
          "output_type": "execute_result",
          "data": {
            "text/html": [
              "<div>\n",
              "<style scoped>\n",
              "    .dataframe tbody tr th:only-of-type {\n",
              "        vertical-align: middle;\n",
              "    }\n",
              "\n",
              "    .dataframe tbody tr th {\n",
              "        vertical-align: top;\n",
              "    }\n",
              "\n",
              "    .dataframe thead th {\n",
              "        text-align: right;\n",
              "    }\n",
              "</style>\n",
              "<table border=\"1\" class=\"dataframe\">\n",
              "  <thead>\n",
              "    <tr style=\"text-align: right;\">\n",
              "      <th></th>\n",
              "      <th>air_store_id</th>\n",
              "      <th>visit_datetime</th>\n",
              "      <th>reserve_datetime</th>\n",
              "      <th>reserve_visitors</th>\n",
              "      <th>air_genre_name</th>\n",
              "      <th>air_area_name</th>\n",
              "      <th>latitude</th>\n",
              "      <th>longitude</th>\n",
              "      <th>hpg_store_id</th>\n",
              "      <th>hpg_genre_name</th>\n",
              "      <th>hpg_area_name</th>\n",
              "      <th>visit_year</th>\n",
              "      <th>visit_month</th>\n",
              "      <th>visit_date</th>\n",
              "      <th>visit_weekday</th>\n",
              "      <th>visit_time</th>\n",
              "      <th>reserve_year</th>\n",
              "      <th>reserve_month</th>\n",
              "      <th>reserve_date</th>\n",
              "      <th>reserve_weekday</th>\n",
              "      <th>reserve_time</th>\n",
              "      <th>store_id</th>\n",
              "      <th>store_genre_name</th>\n",
              "      <th>air_hpg_link</th>\n",
              "      <th>area_name</th>\n",
              "    </tr>\n",
              "  </thead>\n",
              "  <tbody>\n",
              "    <tr>\n",
              "      <th>0</th>\n",
              "      <td>air_877f79706adbfb06</td>\n",
              "      <td>2016-01-01 19:00:00</td>\n",
              "      <td>2016-01-01 16:00:00</td>\n",
              "      <td>1</td>\n",
              "      <td>Japanese food</td>\n",
              "      <td>Tōkyō-to Minato-ku Shibakōen</td>\n",
              "      <td>35.658068</td>\n",
              "      <td>139.751599</td>\n",
              "      <td>0</td>\n",
              "      <td>0</td>\n",
              "      <td>NaN</td>\n",
              "      <td>2016</td>\n",
              "      <td>1</td>\n",
              "      <td>1</td>\n",
              "      <td>4</td>\n",
              "      <td>19:00:00</td>\n",
              "      <td>2016</td>\n",
              "      <td>1</td>\n",
              "      <td>1</td>\n",
              "      <td>4</td>\n",
              "      <td>16:00:00</td>\n",
              "      <td>air_877f79706adbfb06</td>\n",
              "      <td>Japanese food</td>\n",
              "      <td>0</td>\n",
              "      <td>Tōkyō-to Minato-ku Shibakōen</td>\n",
              "    </tr>\n",
              "    <tr>\n",
              "      <th>1</th>\n",
              "      <td>air_877f79706adbfb06</td>\n",
              "      <td>2016-01-01 20:00:00</td>\n",
              "      <td>2016-01-01 16:00:00</td>\n",
              "      <td>2</td>\n",
              "      <td>Japanese food</td>\n",
              "      <td>Tōkyō-to Minato-ku Shibakōen</td>\n",
              "      <td>35.658068</td>\n",
              "      <td>139.751599</td>\n",
              "      <td>0</td>\n",
              "      <td>0</td>\n",
              "      <td>NaN</td>\n",
              "      <td>2016</td>\n",
              "      <td>1</td>\n",
              "      <td>1</td>\n",
              "      <td>4</td>\n",
              "      <td>20:00:00</td>\n",
              "      <td>2016</td>\n",
              "      <td>1</td>\n",
              "      <td>1</td>\n",
              "      <td>4</td>\n",
              "      <td>16:00:00</td>\n",
              "      <td>air_877f79706adbfb06</td>\n",
              "      <td>Japanese food</td>\n",
              "      <td>0</td>\n",
              "      <td>Tōkyō-to Minato-ku Shibakōen</td>\n",
              "    </tr>\n",
              "    <tr>\n",
              "      <th>2</th>\n",
              "      <td>air_877f79706adbfb06</td>\n",
              "      <td>2016-01-02 18:00:00</td>\n",
              "      <td>2016-01-01 16:00:00</td>\n",
              "      <td>2</td>\n",
              "      <td>Japanese food</td>\n",
              "      <td>Tōkyō-to Minato-ku Shibakōen</td>\n",
              "      <td>35.658068</td>\n",
              "      <td>139.751599</td>\n",
              "      <td>0</td>\n",
              "      <td>0</td>\n",
              "      <td>NaN</td>\n",
              "      <td>2016</td>\n",
              "      <td>1</td>\n",
              "      <td>2</td>\n",
              "      <td>5</td>\n",
              "      <td>18:00:00</td>\n",
              "      <td>2016</td>\n",
              "      <td>1</td>\n",
              "      <td>1</td>\n",
              "      <td>4</td>\n",
              "      <td>16:00:00</td>\n",
              "      <td>air_877f79706adbfb06</td>\n",
              "      <td>Japanese food</td>\n",
              "      <td>0</td>\n",
              "      <td>Tōkyō-to Minato-ku Shibakōen</td>\n",
              "    </tr>\n",
              "    <tr>\n",
              "      <th>3</th>\n",
              "      <td>air_877f79706adbfb06</td>\n",
              "      <td>2016-01-02 21:00:00</td>\n",
              "      <td>2016-01-01 16:00:00</td>\n",
              "      <td>2</td>\n",
              "      <td>Japanese food</td>\n",
              "      <td>Tōkyō-to Minato-ku Shibakōen</td>\n",
              "      <td>35.658068</td>\n",
              "      <td>139.751599</td>\n",
              "      <td>0</td>\n",
              "      <td>0</td>\n",
              "      <td>NaN</td>\n",
              "      <td>2016</td>\n",
              "      <td>1</td>\n",
              "      <td>2</td>\n",
              "      <td>5</td>\n",
              "      <td>21:00:00</td>\n",
              "      <td>2016</td>\n",
              "      <td>1</td>\n",
              "      <td>1</td>\n",
              "      <td>4</td>\n",
              "      <td>16:00:00</td>\n",
              "      <td>air_877f79706adbfb06</td>\n",
              "      <td>Japanese food</td>\n",
              "      <td>0</td>\n",
              "      <td>Tōkyō-to Minato-ku Shibakōen</td>\n",
              "    </tr>\n",
              "    <tr>\n",
              "      <th>4</th>\n",
              "      <td>air_877f79706adbfb06</td>\n",
              "      <td>2016-01-08 21:00:00</td>\n",
              "      <td>2016-01-04 20:00:00</td>\n",
              "      <td>2</td>\n",
              "      <td>Japanese food</td>\n",
              "      <td>Tōkyō-to Minato-ku Shibakōen</td>\n",
              "      <td>35.658068</td>\n",
              "      <td>139.751599</td>\n",
              "      <td>0</td>\n",
              "      <td>0</td>\n",
              "      <td>NaN</td>\n",
              "      <td>2016</td>\n",
              "      <td>1</td>\n",
              "      <td>8</td>\n",
              "      <td>4</td>\n",
              "      <td>21:00:00</td>\n",
              "      <td>2016</td>\n",
              "      <td>1</td>\n",
              "      <td>4</td>\n",
              "      <td>0</td>\n",
              "      <td>20:00:00</td>\n",
              "      <td>air_877f79706adbfb06</td>\n",
              "      <td>Japanese food</td>\n",
              "      <td>0</td>\n",
              "      <td>Tōkyō-to Minato-ku Shibakōen</td>\n",
              "    </tr>\n",
              "    <tr>\n",
              "      <th>...</th>\n",
              "      <td>...</td>\n",
              "      <td>...</td>\n",
              "      <td>...</td>\n",
              "      <td>...</td>\n",
              "      <td>...</td>\n",
              "      <td>...</td>\n",
              "      <td>...</td>\n",
              "      <td>...</td>\n",
              "      <td>...</td>\n",
              "      <td>...</td>\n",
              "      <td>...</td>\n",
              "      <td>...</td>\n",
              "      <td>...</td>\n",
              "      <td>...</td>\n",
              "      <td>...</td>\n",
              "      <td>...</td>\n",
              "      <td>...</td>\n",
              "      <td>...</td>\n",
              "      <td>...</td>\n",
              "      <td>...</td>\n",
              "      <td>...</td>\n",
              "      <td>...</td>\n",
              "      <td>...</td>\n",
              "      <td>...</td>\n",
              "      <td>...</td>\n",
              "    </tr>\n",
              "    <tr>\n",
              "      <th>295</th>\n",
              "      <td>air_877f79706adbfb06</td>\n",
              "      <td>2016-04-12 21:00:00</td>\n",
              "      <td>2016-04-01 23:00:00</td>\n",
              "      <td>2</td>\n",
              "      <td>Japanese food</td>\n",
              "      <td>Tōkyō-to Minato-ku Shibakōen</td>\n",
              "      <td>35.658068</td>\n",
              "      <td>139.751599</td>\n",
              "      <td>0</td>\n",
              "      <td>0</td>\n",
              "      <td>NaN</td>\n",
              "      <td>2016</td>\n",
              "      <td>4</td>\n",
              "      <td>12</td>\n",
              "      <td>1</td>\n",
              "      <td>21:00:00</td>\n",
              "      <td>2016</td>\n",
              "      <td>4</td>\n",
              "      <td>1</td>\n",
              "      <td>4</td>\n",
              "      <td>23:00:00</td>\n",
              "      <td>air_877f79706adbfb06</td>\n",
              "      <td>Japanese food</td>\n",
              "      <td>0</td>\n",
              "      <td>Tōkyō-to Minato-ku Shibakōen</td>\n",
              "    </tr>\n",
              "    <tr>\n",
              "      <th>296</th>\n",
              "      <td>air_877f79706adbfb06</td>\n",
              "      <td>2016-04-12 21:00:00</td>\n",
              "      <td>2016-04-01 23:00:00</td>\n",
              "      <td>2</td>\n",
              "      <td>Japanese food</td>\n",
              "      <td>Tōkyō-to Minato-ku Shibakōen</td>\n",
              "      <td>35.658068</td>\n",
              "      <td>139.751599</td>\n",
              "      <td>0</td>\n",
              "      <td>0</td>\n",
              "      <td>NaN</td>\n",
              "      <td>2016</td>\n",
              "      <td>4</td>\n",
              "      <td>12</td>\n",
              "      <td>1</td>\n",
              "      <td>21:00:00</td>\n",
              "      <td>2016</td>\n",
              "      <td>4</td>\n",
              "      <td>1</td>\n",
              "      <td>4</td>\n",
              "      <td>23:00:00</td>\n",
              "      <td>air_877f79706adbfb06</td>\n",
              "      <td>Japanese food</td>\n",
              "      <td>0</td>\n",
              "      <td>Tōkyō-to Minato-ku Shibakōen</td>\n",
              "    </tr>\n",
              "    <tr>\n",
              "      <th>297</th>\n",
              "      <td>air_877f79706adbfb06</td>\n",
              "      <td>2016-04-12 21:00:00</td>\n",
              "      <td>2016-04-11 12:00:00</td>\n",
              "      <td>4</td>\n",
              "      <td>Japanese food</td>\n",
              "      <td>Tōkyō-to Minato-ku Shibakōen</td>\n",
              "      <td>35.658068</td>\n",
              "      <td>139.751599</td>\n",
              "      <td>0</td>\n",
              "      <td>0</td>\n",
              "      <td>NaN</td>\n",
              "      <td>2016</td>\n",
              "      <td>4</td>\n",
              "      <td>12</td>\n",
              "      <td>1</td>\n",
              "      <td>21:00:00</td>\n",
              "      <td>2016</td>\n",
              "      <td>4</td>\n",
              "      <td>11</td>\n",
              "      <td>0</td>\n",
              "      <td>12:00:00</td>\n",
              "      <td>air_877f79706adbfb06</td>\n",
              "      <td>Japanese food</td>\n",
              "      <td>0</td>\n",
              "      <td>Tōkyō-to Minato-ku Shibakōen</td>\n",
              "    </tr>\n",
              "    <tr>\n",
              "      <th>298</th>\n",
              "      <td>air_877f79706adbfb06</td>\n",
              "      <td>2016-04-13 21:00:00</td>\n",
              "      <td>2016-04-04 23:00:00</td>\n",
              "      <td>2</td>\n",
              "      <td>Japanese food</td>\n",
              "      <td>Tōkyō-to Minato-ku Shibakōen</td>\n",
              "      <td>35.658068</td>\n",
              "      <td>139.751599</td>\n",
              "      <td>0</td>\n",
              "      <td>0</td>\n",
              "      <td>NaN</td>\n",
              "      <td>2016</td>\n",
              "      <td>4</td>\n",
              "      <td>13</td>\n",
              "      <td>2</td>\n",
              "      <td>21:00:00</td>\n",
              "      <td>2016</td>\n",
              "      <td>4</td>\n",
              "      <td>4</td>\n",
              "      <td>0</td>\n",
              "      <td>23:00:00</td>\n",
              "      <td>air_877f79706adbfb06</td>\n",
              "      <td>Japanese food</td>\n",
              "      <td>0</td>\n",
              "      <td>Tōkyō-to Minato-ku Shibakōen</td>\n",
              "    </tr>\n",
              "    <tr>\n",
              "      <th>299</th>\n",
              "      <td>air_877f79706adbfb06</td>\n",
              "      <td>2016-04-13 21:00:00</td>\n",
              "      <td>2016-04-13 21:00:00</td>\n",
              "      <td>2</td>\n",
              "      <td>Japanese food</td>\n",
              "      <td>Tōkyō-to Minato-ku Shibakōen</td>\n",
              "      <td>35.658068</td>\n",
              "      <td>139.751599</td>\n",
              "      <td>0</td>\n",
              "      <td>0</td>\n",
              "      <td>NaN</td>\n",
              "      <td>2016</td>\n",
              "      <td>4</td>\n",
              "      <td>13</td>\n",
              "      <td>2</td>\n",
              "      <td>21:00:00</td>\n",
              "      <td>2016</td>\n",
              "      <td>4</td>\n",
              "      <td>13</td>\n",
              "      <td>2</td>\n",
              "      <td>21:00:00</td>\n",
              "      <td>air_877f79706adbfb06</td>\n",
              "      <td>Japanese food</td>\n",
              "      <td>0</td>\n",
              "      <td>Tōkyō-to Minato-ku Shibakōen</td>\n",
              "    </tr>\n",
              "  </tbody>\n",
              "</table>\n",
              "<p>300 rows × 25 columns</p>\n",
              "</div>"
            ],
            "text/plain": [
              "             air_store_id  ...                     area_name\n",
              "0    air_877f79706adbfb06  ...  Tōkyō-to Minato-ku Shibakōen\n",
              "1    air_877f79706adbfb06  ...  Tōkyō-to Minato-ku Shibakōen\n",
              "2    air_877f79706adbfb06  ...  Tōkyō-to Minato-ku Shibakōen\n",
              "3    air_877f79706adbfb06  ...  Tōkyō-to Minato-ku Shibakōen\n",
              "4    air_877f79706adbfb06  ...  Tōkyō-to Minato-ku Shibakōen\n",
              "..                    ...  ...                           ...\n",
              "295  air_877f79706adbfb06  ...  Tōkyō-to Minato-ku Shibakōen\n",
              "296  air_877f79706adbfb06  ...  Tōkyō-to Minato-ku Shibakōen\n",
              "297  air_877f79706adbfb06  ...  Tōkyō-to Minato-ku Shibakōen\n",
              "298  air_877f79706adbfb06  ...  Tōkyō-to Minato-ku Shibakōen\n",
              "299  air_877f79706adbfb06  ...  Tōkyō-to Minato-ku Shibakōen\n",
              "\n",
              "[300 rows x 25 columns]"
            ]
          },
          "metadata": {
            "tags": []
          },
          "execution_count": 78
        }
      ]
    }
  ]
}